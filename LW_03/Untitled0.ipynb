{
  "nbformat": 4,
  "nbformat_minor": 0,
  "metadata": {
    "colab": {
      "provenance": [],
      "authorship_tag": "ABX9TyO4uFMOBE9J/cCdU3Jh5xJa",
      "include_colab_link": true
    },
    "kernelspec": {
      "name": "python3",
      "display_name": "Python 3"
    },
    "language_info": {
      "name": "python"
    }
  },
  "cells": [
    {
      "cell_type": "markdown",
      "metadata": {
        "id": "view-in-github",
        "colab_type": "text"
      },
      "source": [
        "<a href=\"https://colab.research.google.com/github/gadilshina-ve/SoftwareTools_DA/blob/main/LW_03/Untitled0.ipynb\" target=\"_parent\"><img src=\"https://colab.research.google.com/assets/colab-badge.svg\" alt=\"Open In Colab\"/></a>"
      ]
    },
    {
      "cell_type": "code",
      "execution_count": null,
      "metadata": {
        "id": "qZCR_KbhI0q_"
      },
      "outputs": [],
      "source": [
        "from datetime import datetime\n",
        "import pandas as pd  # type: ignore\n",
        "import random\n",
        "import json\n"
      ]
    },
    {
      "cell_type": "code",
      "source": [
        "# Функция для генерации CSV файла с данными о партнерах\n",
        "def generate_csv_data():\n",
        "    data_csv = {\n",
        "        'ID': [i for i in range(1, 101)],\n",
        "        'Сумма сделок': [random.randint(10000, 50000) for _ in range(100)],\n",
        "        'Категория партнера': [random.choice(['Поставщик', 'Клиент', 'Партнер']) for _ in range(100)],\n",
        "    }\n",
        "    df_csv = pd.DataFrame(data_csv)\n",
        "    df_csv.to_csv('partners_data.csv', index=False, encoding='utf-8')\n",
        "\n",
        "\n",
        "# Функция для генерации Excel файла с данными о партнерах\n",
        "def generate_excel_data():\n",
        "    data_excel = {\n",
        "        'ID': [i for i in range(51, 151)],\n",
        "        'Количество сделок': [random.randint(1, 10) for _ in range(100)],\n",
        "        'Категория партнера': [random.choice(['Поставщик', 'Клиент', 'Партнер']) for _ in range(100)],\n",
        "    }\n",
        "    df_excel = pd.DataFrame(data_excel)\n",
        "    df_excel.to_excel('partners_transactions.xlsx', index=False)\n",
        "\n",
        "\n",
        "# Функция для генерации JSON файла с данными о партнерах\n",
        "def generate_json_data():\n",
        "    data_json = [\n",
        "        {'ID': i, 'Средняя сумма сделки': round(random.uniform(1000.0, 20000.0), 2), 'Категория партнера': random.choice(['Поставщик', 'Клиент', 'Партнер'])}\n",
        "        for i in range(26, 126)\n",
        "    ]\n",
        "    with open('partners_average_deals.json', 'w', encoding='utf-8') as f:\n",
        "        json.dump(data_json, f, ensure_ascii=False)\n",
        "\n",
        "\n",
        "# Функция для обработки данных (очистка, удаление дубликатов и заполнение пропусков)\n",
        "def clean_data():\n",
        "    # Загрузка данных\n",
        "    df_csv = pd.read_csv('partners_data.csv', encoding='utf-8')\n",
        "    df_excel = pd.read_excel('partners_transactions.xlsx')\n",
        "    with open('partners_average_deals.json', 'r', encoding='utf-8') as f:\n",
        "        data_json = json.load(f)\n",
        "    df_json = pd.DataFrame(data_json)\n",
        "\n",
        "    # Объединение всех данных по 'ID'\n",
        "    merged_df = pd.merge(df_csv, df_excel, on='ID', how='outer')\n",
        "    merged_df = pd.merge(merged_df, df_json, on='ID', how='outer')\n",
        "\n",
        "    # Очистка данных: удаление дубликатов и обработка пропусков\n",
        "    df=merged_df.drop_duplicates(subset='ID', keep='first', inplace=True)\n",
        "    df=merged_df.fillna({'Сумма сделок': 0, 'Количество сделок': 0, 'Средняя сумма сделки': 0}, inplace=True)"
      ],
      "metadata": {
        "id": "Ug4b-sZyI3CZ"
      },
      "execution_count": null,
      "outputs": []
    },
    {
      "cell_type": "code",
      "source": [
        "from airflow import DAG\n",
        "from airflow.operators.python_operator import PythonOperator\n",
        "from airflow.operators.email_operator import EmailOperator\n",
        "from datetime import datetime\n",
        "import pandas as pd\n",
        "import random\n",
        "import json\n",
        "import os\n",
        "\n",
        "\n",
        "# Функция для генерации CSV файла с данными о партнерах\n",
        "def generate_csv_data():\n",
        "    data_csv = {\n",
        "        'ID': [i for i in range(1, 101)],\n",
        "        'Сумма сделок': [random.randint(10000, 50000) for _ in range(100)],\n",
        "        'Категория партнера': [random.choice(['Поставщик', 'Клиент', 'Партнер']) for _ in range(100)],\n",
        "    }\n",
        "    df_csv = pd.DataFrame(data_csv)\n",
        "    df_csv.to_csv('partners_data.csv', index=False, encoding='utf-8')\n",
        "\n",
        "# Функция для генерации JSON файла с данными о партнерах\n",
        "def generate_json_data():\n",
        "    data_json = [\n",
        "        {'ID': i, 'Средняя сумма сделки': round(random.uniform(1000.0, 20000.0), 2), 'Категория партнера': random.choice(['Поставщик', 'Клиент', 'Партнер'])}\n",
        "        for i in range(26, 126)\n",
        "    ]\n",
        "    with open('partners_average_deals.json', 'w', encoding='utf-8') as f:\n",
        "        json.dump(data_json, f, ensure_ascii=False)\n",
        "\n",
        "# Функция для генерации Excel файла с данными о партнерах\n",
        "def generate_excel_data():\n",
        "    data_excel = {\n",
        "        'ID': [i for i in range(51, 151)],\n",
        "        'Количество сделок': [random.randint(1, 10) for _ in range(100)],\n",
        "        'Категория партнера': [random.choice(['Поставщик', 'Клиент', 'Партнер']) for _ in range(100)],\n",
        "    }\n",
        "    df_excel = pd.DataFrame(data_excel)\n",
        "    df_excel.to_excel('partners_transactions.xlsx', index=False)\n",
        "\n",
        "\n",
        "\n",
        "# Функция для обработки данных (очистка, удаление дубликатов и заполнение пропусков)\n",
        "def clean_data():\n",
        "    # Загрузка данных\n",
        "    df_csv = pd.read_csv('partners_data.csv', encoding='utf-8')\n",
        "    df_excel = pd.read_excel('partners_transactions.xlsx')\n",
        "    with open('partners_average_deals.json', 'r', encoding='utf-8') as f:\n",
        "        data_json = json.load(f)\n",
        "    df_json = pd.DataFrame(data_json)\n",
        "\n",
        "    # Объединение всех данных по 'ID'\n",
        "    merged_df = pd.merge(df_csv, df_json, on='ID', how='outer')\n",
        "    merged_df = pd.merge(merged_df,df_excel, on='ID', how='outer')\n",
        "\n",
        "    # Очистка данных: удаление дубликатов и обработка пропусков\n",
        "    merged_df.drop_duplicates(subset='ID', keep='first', inplace=True)\n",
        "    merged_df.fillna({'Сумма сделок': 0, 'Количество сделок': 0, 'Средняя сумма сделки': 0}, inplace=True)\n",
        "\n",
        "    # Сохранение результата в Excel файл\n",
        "    merged_df.to_excel('cleaned_partners_data.xlsx', index=False)\n",
        "\n",
        "\n",
        "# Определение DAG\n",
        "dag = DAG('partners_data_processing_dag', description='Генерация и очистка данных о партнерах',\n",
        "          schedule_interval='@once', start_date=datetime(2023, 10, 1), catchup=False)\n",
        "\n",
        "# Определение задач\n",
        "task_generate_csv_data = PythonOperator(task_id='generate_csv_data', python_callable=generate_csv_data, dag=dag)\n",
        "task_generate_json_data = PythonOperator(task_id='generate_json_data', python_callable=generate_json_data, dag=dag)\n",
        "task_generate_excel_data = PythonOperator(task_id='generate_excel_data', python_callable=generate_excel_data, dag=dag)\n",
        "task_clean_data = PythonOperator(task_id='clean_data', python_callable=clean_data, dag=dag)\n",
        "\n",
        "# Установка зависимостей между задачами\n",
        "task_generate_csv_data >> task_generate_json_data >> task_generate_excel_data >> task_clean_data\n"
      ],
      "metadata": {
        "id": "SZBlj5rtOZGm"
      },
      "execution_count": null,
      "outputs": []
    }
  ]
}